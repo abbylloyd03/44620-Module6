{
 "cells": [
  {
   "cell_type": "markdown",
   "metadata": {},
   "source": [
    "# Web Mining and Applied NLP (44-620)\n",
    "\n",
    "## Web Scraping and NLP with Requests, BeautifulSoup, and spaCy\n",
    "\n",
    "### Student Name: Abby Lloyd\n",
    "\n",
    "### Github Link: https://github.com/abbylloyd03/44620-Module6\n",
    "\n",
    "Perform the tasks described in the Markdown cells below.  When you have completed the assignment make sure your code cells have all been run (and have output beneath them) and ensure you have committed and pushed ALL of your changes to your assignment repository.\n",
    "\n",
    "Every question that requires you to write code will have a code cell underneath it; you may either write your entire solution in that cell or write it in a python file (`.py`), then import and run the appropriate code to answer the question."
   ]
  },
  {
   "cell_type": "markdown",
   "metadata": {},
   "source": [
    "### Question 1: Article html stored in separate file that is committed and pushed: 1 pt"
   ]
  },
  {
   "cell_type": "markdown",
   "metadata": {},
   "source": [
    "1. Write code that extracts the article html from https://web.archive.org/web/20210327165005/https://hackaday.com/2021/03/22/how-laser-headlights-work/ and dumps it to a .pkl (or other appropriate file)"
   ]
  },
  {
   "cell_type": "code",
   "execution_count": 1,
   "metadata": {},
   "outputs": [],
   "source": [
    "import requests\n",
    "import pickle\n",
    "\n",
    "article_page = requests.get('https://web.archive.org/web/20210327165005/https://hackaday.com/2021/03/22/how-laser-headlights-work/')\n",
    "article_html = article_page.text\n",
    "\n",
    "with open('article_html.pkl', 'wb') as f:\n",
    "    pickle.dump(article_page.text, f)"
   ]
  },
  {
   "cell_type": "markdown",
   "metadata": {},
   "source": [
    "### Question 2: Article text is correct: 1 pt"
   ]
  },
  {
   "cell_type": "markdown",
   "metadata": {},
   "source": [
    "2. Read in your article's html source from the file you created in question 1 and print it's text (use `.get_text()`)"
   ]
  },
  {
   "cell_type": "code",
   "execution_count": 2,
   "metadata": {},
   "outputs": [
    {
     "name": "stdout",
     "output_type": "stream",
     "text": [
      "\n",
      "    \n",
      "        How Laser Headlights Work\n",
      "        \n",
      "            \n",
      "                130 Comments            \n",
      "            \n",
      "                by:\n",
      "                Lewin Day\n",
      "            \n",
      "        \n",
      "\n",
      "        \n",
      "            March 22, 2021\n",
      "            \n",
      "                \n",
      "                \n",
      "            \n",
      "        \n",
      "\n",
      "        \n",
      "    \n",
      "\n",
      "    \n",
      "        When we think about the onward march of automotive technology, headlights aren’t usually the first thing that come to mind. Engines, fuel efficiency, and the switch to electric power are all more front of mind. However, that doesn’t mean there aren’t thousands of engineers around the world working to improve the state of the art in automotive lighting day in, day out.\n",
      "Sealed beam headlights gave way to more modern designs once regulations loosened up, while bulbs moved from simple halogens to xenon HIDs and, more recently, LEDs. Now, a new technology is on the scene, with lasers!\n",
      "\n",
      "Laser Headlights?!\n",
      "BWM’s prototype laser headlight assemblies undergoing testing.\n",
      "The first image brought to mind by the phrase “laser headlights” is that of laser beams firing out the front of an automobile. Obviously, coherent beams of monochromatic light would make for poor illumination outside of a very specific spot quite some distance away. Thankfully for our eyes, laser headlights don’t work in this way at all.\n",
      "Instead, laser headlights consist of one or more solid state laser diodes mounted inside the headlight. These blue lasers are fired at a yellow phosphor, similar to that used in white LEDs. This produces a powerful, vibrant white light that can then be bounced off reflectors and out of the headlights towards the road. Laser headlights built in this way have several benefits. They’re more energy efficient than LEDs that put out the same amount of light, while also being more space efficient, too.\n",
      "BWM’s futuristic i8 was one of the first vehicles to ship with laser headlight technology.\n",
      "Laser headlights are still a nascent technology, thus far only appearing in a few BMW, Audi, and other select vehicles. BMW’s technology was developed in partnership with lighting experts OSRAM. In practice, a regular LED low-beam lamp is used, with the laser used to create an incredibly bright and focused spot, used for high-beams. This can provide illumination out to 600 meters ahead of the vehicle, double that of conventional LED high beams. The lights use indium gallium nitride diode lasers that were originally used in projectors, with power levels above 1 watt. One of the challenges in implementing such technology in an automotive environment is the need for it to operate at temperature extremes. While research lasers and laser pointers may primarily be used at typical room temperatures, automotive headlights must be able to withstand everything from 40 degrees below zero up to 50 degrees C. Thankfully, the laser’s high efficiency means it doesn’t have huge heat output of its own to further complicate things. Other engineering challenges involve tailoring the optics package for the rough-and-tumble, high vibration environment found in the automotive application. It’s also important to ensure, as with any such device, that the end user can’t be exposed to harmful laser radiation in the event of accident or malfunction.\n",
      "Tearing Down the Laser Headlight\n",
      "A marketing image showing the construction of an aftermarket LED/laser headlight. We’d take the laser power with a grain of salt — it’s difficult to imagine a 10 W laser shining directly on some small LEDs without melting a hole through the board in short order.\n",
      "An aftermarket has sprung up too, with delightfully innovative designs. Combined laser/LED headlights are readily available on Alibaba, designed as a drop in replacement for projector lamps on existing vehicles. These often use an LED low-beam, and a combined LED/laser high beam, where the laser diode shoots directly at the LED phosphor to excite it further, rather than using its own. These units often also come with fan cooling to keep the laser and LEDs below their maximum operational temperature. Such developments are exciting, though it’s important to be wary of the performance of unknown aftermarket headlights. Many aftermarket LED headlight “upgrades” fail to pass muster when it comes to real-world performance, and there’s no reason to believe hybrid LED/laser designs will be any different. We’d love to pass a selection of these parts through a full IIHS test protocol, but that’s sadly beyond the scope (and budget!) of this article.\n",
      "However, [mikeselectricstuff] has happened to lay his hands on both the BMW and aftermarket parts, tearing them all down in his workshop to see what makes them tick. The differences are multitude when laid bare on the bench. The AliExpress part is relatively simple, wired up no differently from a regular headlight. Interestingly, however, the laser high-beam circuit runs all the time in these parts. To prevent blinding other road users, a shutter is kept in place to block the light, which is moved out of the way with a solenoid when the driver turns on the high beam switch.\n",
      "Where the aftermarket part is a little out of left field, the BMW design is another thing entirely. The cutting-edge headlights are hooked up with multiple connectors and over 30 conductors, with much of the driver electronics living in an external controller. Much of this is to drive the various LEDs and stepper motors for slewing the headlights when steering. However, the laser assembly brings its own complexities. Twin light sensors are built inside to monitor the laser beam, and a special metal blocking arm sits directly in front of the diode, presumably to stop the laser light leaving the headlight in the event the phosphor coating burns through. It’s truly wild to get a look inside a modern luxury car’s headlight and see just how far we’ve come from the old days of simple sealed beams.\n",
      "Cost Versus Performance\n",
      "Despite the efficiency gains available, the technology remains expensive. Powerful laser diodes don’t come cheap, after all. However, as the technology trickles down to lower-end models, it’s likely that we could see economies of scale change that for the better. Indeed, if national authorities begin to demand higher performance headlights as standard, we could see laser headlights become the norm, rather than an expensive luxury. The technology could naturally be applied to home and commercial lighting, too — though we suspect the potential gains are limited enough that LED lighting will remain the norm for some time to come.\n",
      "The high light output of laser headlights in a compact package allows engineers greater freedom when designing the front-end of a car.\n",
      "As it currently stands, much of the appeal of the new technology is about the packaging benefits, which allow automotive designers greater freedom around the headlight area. Such concerns are less of a factor when it comes to light fittings in the home or office, or indeed, on lower-end automobiles. Regardless, it’s an exciting new application for lasers and one we’ll be sure to see more of in the future.\n",
      " \n",
      "\t            \n",
      "    \n",
      "    \t\t\t\t\t\n",
      "    \t\t\t\t\n",
      "    \t\t\t\t\t \n",
      "    \t\t\t\t\t\t\t\t\t\n",
      "    \t\t\t\n",
      "    \t\t\t\t\t\n",
      "    \t\t\t\t\n",
      "    \t\t\t\t\t\n",
      "    \t\t\t\t\t\t\t\t\t\n",
      "    \t\t\t\n",
      "    \t\t\t\t\t\n",
      "    \t\t\t\t\n",
      "    \t\t\t\t\t\n",
      "    \t\t\t\t\t\t\t\t\t\n",
      "    \t\t\t\n",
      "    \t\t\t\t\t\n",
      "                \n",
      "    \t\t\t\t\t\n",
      "    \t\t\t\t\t\t\t\t\t\n",
      "    \t\t\t\n",
      "    \t\t\t\n",
      "    \n",
      "        Posted in car hacks, Engineering, Featured, Laser Hacks, SliderTagged laser, laser headlight, laser headlights, light    \n",
      "\n"
     ]
    }
   ],
   "source": [
    "from bs4 import BeautifulSoup\n",
    "\n",
    "with open('article_html.pkl', 'rb') as f:\n",
    "    article_html = pickle.load(f)\n",
    "\n",
    "soup = BeautifulSoup(article_html, 'html5lib')\n",
    "\n",
    "article_content = soup.find('article')\n",
    "\n",
    "print(article_content.get_text())"
   ]
  },
  {
   "cell_type": "markdown",
   "metadata": {},
   "source": [
    "### Question 3: Correct (or equivalent in the case of multiple tokens with same frequency) tokens printed: 1 pt"
   ]
  },
  {
   "cell_type": "markdown",
   "metadata": {},
   "source": [
    "3. Load the article text into a trained `spaCy` pipeline, and determine the 5 most frequent tokens (converted to lower case).  Print the common tokens with an appropriate label.  Additionally, print the tokens their frequencies (with appropriate labels). Make sure to remove things we don't care about (punctuation, stopwords, whitespace)."
   ]
  },
  {
   "cell_type": "code",
   "execution_count": 11,
   "metadata": {},
   "outputs": [
    {
     "name": "stdout",
     "output_type": "stream",
     "text": [
      "Five most frequent tokens: [('laser', 35), ('headlights', 19), ('headlight', 11), ('technology', 10), ('led', 10)]\n"
     ]
    }
   ],
   "source": [
    "import spacy\n",
    "from collections import Counter\n",
    "\n",
    "nlp = spacy.load('en_core_web_sm')\n",
    "doc = nlp(article_content.get_text())\n",
    "\n",
    "\n",
    "# Remove whitespace, punctuation, and stopword tokens\n",
    "# Convert all letters to lowercase\n",
    "\n",
    "def we_care_about(token):\n",
    "    return not (token.is_space or token.is_punct or token.is_stop)\n",
    "\n",
    "interesting_tokens = [token.lower_ for token in doc if we_care_about(token)]\n",
    "\n",
    "# Count & print token frequency\n",
    "\n",
    "word_freq = Counter(map(str,interesting_tokens))\n",
    "print('Five most frequent tokens:', word_freq.most_common(5))\n",
    "\n"
   ]
  },
  {
   "cell_type": "markdown",
   "metadata": {},
   "source": [
    "### Question 4: Correct (or equivalent in the case of multiple lemmas with same frequency) lemmas printed: 1 pt"
   ]
  },
  {
   "cell_type": "markdown",
   "metadata": {},
   "source": [
    "4. Load the article text into a trained `spaCy` pipeline, and determine the 5 most frequent lemmas (converted to lower case).  Print the common lemmas with an appropriate label.  Additionally, print the lemmas with their frequencies (with appropriate labels). Make sure to remove things we don't care about (punctuation, stopwords, whitespace)."
   ]
  },
  {
   "cell_type": "code",
   "execution_count": 10,
   "metadata": {},
   "outputs": [
    {
     "name": "stdout",
     "output_type": "stream",
     "text": [
      "Five most frequent lemmas: [('laser', 40), ('headlight', 28), ('beam', 12), ('led', 11), ('technology', 10)]\n"
     ]
    }
   ],
   "source": [
    "# Lemmatization\n",
    "# Convert all letters to lowercase\n",
    "\n",
    "interesting_lemmas = [token.lemma_.lower() for token in doc if we_care_about(token)]\n",
    "\n",
    "# Count & print lemma frequency\n",
    "\n",
    "lemma_freq = Counter(interesting_lemmas)\n",
    "print('Five most frequent lemmas:', lemma_freq.most_common(5))"
   ]
  },
  {
   "cell_type": "markdown",
   "metadata": {},
   "source": [
    "### Question 5: Correct scores for first sentence printed: 2 pts (1 / function)"
   ]
  },
  {
   "cell_type": "markdown",
   "metadata": {},
   "source": [
    "5. Define the following methods:\n",
    "    * `score_sentence_by_token(sentence, interesting_token)` that takes a sentence and a list of interesting token and returns the number of times that any of the interesting words appear in the sentence divided by the number of words in the sentence\n",
    "    * `score_sentence_by_lemma(sentence, interesting_lemmas)` that takes a sentence and a list of interesting lemmas and returns the number of times that any of the interesting lemmas appear in the sentence divided by the number of words in the sentence\n",
    "    \n",
    "You may find some of the code from the in class notes useful; feel free to use methods (rewrite them in this cell as well).  Test them by showing the score of the first sentence in your article using the frequent tokens and frequent lemmas identified in question 3."
   ]
  },
  {
   "cell_type": "markdown",
   "metadata": {},
   "source": [
    "#### Question 5: Part One"
   ]
  },
  {
   "cell_type": "code",
   "execution_count": 5,
   "metadata": {},
   "outputs": [
    {
     "name": "stdout",
     "output_type": "stream",
     "text": [
      "Count of interesting tokens: 2\n",
      "Sentence: When we think about the onward march of automotive technology, headlights aren’t usually the first thing that come to mind.\n",
      "List of interesting tokens: {'headlight', 'led', 'headlights', 'technology', 'laser'}\n"
     ]
    }
   ],
   "source": [
    "# Define first method (Count interesting tokens in method)\n",
    "\n",
    "def score_sentence_by_token(sentence, interesting_token):\n",
    "    unpacked_tokens = set()\n",
    "    for token, freq in interesting_token:\n",
    "        unpacked_tokens.add(token)\n",
    "    count = 0\n",
    "    for token in sentence:\n",
    "        if token.lower_ in unpacked_tokens:\n",
    "            count += 1\n",
    "    sent_str = str(sentence)\n",
    "    print('Count of interesting tokens:', count)\n",
    "    print('Sentence:', sent_str)\n",
    "    print('List of interesting tokens:', unpacked_tokens)\n",
    "\n",
    "# Isolate and store first sentence of article\n",
    "\n",
    "sentences = list(doc.sents)\n",
    "sentence = sentences[2]\n",
    "\n",
    "# Use method to return number of interesting tokens in sentence\n",
    "\n",
    "score_sentence_by_token(sentence, word_freq.most_common(5))\n"
   ]
  },
  {
   "cell_type": "markdown",
   "metadata": {},
   "source": [
    "#### Question 5: Part Two"
   ]
  },
  {
   "cell_type": "code",
   "execution_count": 6,
   "metadata": {},
   "outputs": [
    {
     "name": "stdout",
     "output_type": "stream",
     "text": [
      "Count of interesting lemmas: 2\n",
      "Sentence: When we think about the onward march of automotive technology, headlights aren’t usually the first thing that come to mind.\n",
      "List of interesting lemmas: {'headlight', 'led', 'beam', 'technology', 'laser'}\n"
     ]
    }
   ],
   "source": [
    "# Define second method (Count interesting lemmas in sentence)\n",
    "\n",
    "def score_sentence_by_lemma(sentence, interesting_lemmas):\n",
    "    unpacked_lemmas = set()\n",
    "    for lemma, freq in interesting_lemmas:\n",
    "        unpacked_lemmas.add(lemma)\n",
    "    count = 0\n",
    "    for token in sentence:\n",
    "        if token.lemma_.lower() in unpacked_lemmas:\n",
    "            count += 1\n",
    "    sent_str = str(sentence)\n",
    "    print('Count of interesting lemmas:', count)\n",
    "    print('Sentence:', sent_str)\n",
    "    print('List of interesting lemmas:', unpacked_lemmas)\n",
    "\n",
    "# Isolate and store first sentence of article\n",
    "\n",
    "sentences = list(doc.sents)\n",
    "sentence = sentences[2]\n",
    "\n",
    "# Use method to return number of interesting lemmas in sentence\n",
    "\n",
    "score_sentence_by_lemma(sentence, lemma_freq.most_common(5))"
   ]
  },
  {
   "cell_type": "markdown",
   "metadata": {},
   "source": [
    "6. Make a list containing the scores (using tokens) of every sentence in the article, and plot a histogram with appropriate titles and axis labels of the scores. From your histogram, what seems to be the most common range of scores (put the answer in a comment after your code)?"
   ]
  },
  {
   "cell_type": "markdown",
   "metadata": {},
   "source": [
    "### Question 6: Histogram shown with appropriate labelling: 1 pt"
   ]
  },
  {
   "cell_type": "code",
   "execution_count": 7,
   "metadata": {},
   "outputs": [
    {
     "data": {
      "text/plain": [
       "Text(0, 0.5, 'Frequency')"
      ]
     },
     "execution_count": 7,
     "metadata": {},
     "output_type": "execute_result"
    },
    {
     "data": {
      "image/png": "[encoded data removed]",
      "text/plain": [
       "<Figure size 1000x700 with 1 Axes>"
      ]
     },
     "metadata": {},
     "output_type": "display_data"
    }
   ],
   "source": [
    "import matplotlib as mpl\n",
    "import matplotlib.pyplot as plt\n",
    "import numpy as np\n",
    "\n",
    "# Make a list of token counts per sentence (x) for histogram\n",
    "\n",
    "def score_sentence_by_token_for_histogram(sentences, interesting_token):\n",
    "    list = []\n",
    "    unpacked_tokens = set()\n",
    "    for token, freq in interesting_token:\n",
    "        unpacked_tokens.add(token)\n",
    "    for sentence in sentences:\n",
    "        count = 0\n",
    "        for token in sentence:\n",
    "            if token.lower_ in unpacked_tokens:\n",
    "                count += 1\n",
    "        list.append(count)\n",
    "    return list\n",
    "\n",
    "x = score_sentence_by_token_for_histogram(sentences, word_freq.most_common(5))\n",
    "\n",
    "# Create plot\n",
    "\n",
    "fig, ax = plt.subplots(figsize =(10, 7))\n",
    "n_bins = max(x)\n",
    "ax.hist(x, n_bins)\n",
    "\n",
    "# Set title\n",
    "ax.set_title(\"Frequencies of interesting tokens in sentences.\")\n",
    "  \n",
    "# adding labels\n",
    "ax.set_xlabel('Number of interesting tokens in sentence')\n",
    "ax.set_ylabel('Frequency')\n"
   ]
  },
  {
   "cell_type": "markdown",
   "metadata": {},
   "source": [
    "### Question 6: The most common range of scores \n",
    "- It appears that the most common number of interesting tokens per sentence was 1."
   ]
  },
  {
   "cell_type": "markdown",
   "metadata": {},
   "source": [
    "### Question 7: Histogram shown with appropriate labelling: 1 pt"
   ]
  },
  {
   "cell_type": "markdown",
   "metadata": {},
   "source": [
    "7. Make a list containing the scores (using lemmas) of every sentence in the article, and plot a histogram with appropriate titles and axis labels of the scores.  From your histogram, what seems to be the most common range of scores (put the answer in a comment after your code)?"
   ]
  },
  {
   "cell_type": "code",
   "execution_count": 8,
   "metadata": {},
   "outputs": [
    {
     "data": {
      "text/plain": [
       "Text(0, 0.5, 'Frequency')"
      ]
     },
     "execution_count": 8,
     "metadata": {},
     "output_type": "execute_result"
    },
    {
     "data": {
      "image/png": "[encoded data removed]",
      "text/plain": [
       "<Figure size 1000x700 with 1 Axes>"
      ]
     },
     "metadata": {},
     "output_type": "display_data"
    }
   ],
   "source": [
    "# Make a list of token counts per sentence (x) for histogram\n",
    "\n",
    "def score_sentence_by_lemma_for_histogram(sentences, interesting_lemmas):\n",
    "    list = []\n",
    "    unpacked_lemmas = set()\n",
    "    for lemma, freq in interesting_lemmas:\n",
    "        unpacked_lemmas.add(lemma)\n",
    "    for sentence in sentences:\n",
    "        count = 0\n",
    "        for token in sentence:\n",
    "            if token.lemma_.lower() in unpacked_lemmas:\n",
    "                count += 1\n",
    "        list.append(count)\n",
    "    return list\n",
    "\n",
    "\n",
    "x = score_sentence_by_lemma_for_histogram(sentences, lemma_freq.most_common(5))\n",
    "\n",
    "# Create plot\n",
    "\n",
    "fig, ax = plt.subplots(figsize =(10, 7))\n",
    "n_bins = max(x)\n",
    "ax.hist(x, n_bins)\n",
    "\n",
    "# Set title\n",
    "ax.set_title(\"Frequencies of interesting lemmas in sentences.\")\n",
    "  \n",
    "# adding labels\n",
    "ax.set_xlabel('Number of interesting lemmas in sentence')\n",
    "ax.set_ylabel('Frequency')"
   ]
  },
  {
   "cell_type": "markdown",
   "metadata": {},
   "source": [
    "### Question 7: The most common range of scores \n",
    "- It appears that the most common number of interesting lemmas per sentence was 1."
   ]
  },
  {
   "cell_type": "markdown",
   "metadata": {},
   "source": [
    "### Question 8: Thoughtful answer provided: 1 pt"
   ]
  },
  {
   "cell_type": "markdown",
   "metadata": {},
   "source": [
    "8. Which tokens and lexems would be ommitted from the lists generated in questions 3 and 4 if we only wanted to consider nouns as interesting words?  How might we change the code to only consider nouns? Put your answer in this Markdown cell (you can edit it by double clicking it).\n",
    "\n",
    "- If we only considered nouns as interesting words, the verb 'led' would be eleminated from our previous list of interesting words.\n",
    "- We could use the Tagger provided by Spacy to do part of speach tagging to isolate only nouns. We would do this at the same time we eliminated stop words.\n",
    "- An example of how you can use Spacy to isolate nouns is below:"
   ]
  },
  {
   "cell_type": "code",
   "execution_count": 9,
   "metadata": {},
   "outputs": [
    {
     "name": "stdout",
     "output_type": "stream",
     "text": [
      "Comments\n",
      "march\n",
      "technology\n",
      "headlights\n",
      "thing\n",
      "mind\n",
      "Engines\n",
      "fuel\n",
      "efficiency\n",
      "switch\n",
      "power\n",
      "front\n",
      "mind\n",
      "thousands\n",
      "engineers\n",
      "world\n",
      "state\n",
      "art\n",
      "lighting\n",
      "day\n",
      "day\n",
      "beam\n",
      "headlights\n",
      "way\n",
      "designs\n",
      "regulations\n",
      "bulbs\n",
      "halogens\n",
      "HIDs\n",
      "LEDs\n",
      "technology\n",
      "scene\n",
      "lasers\n",
      "prototype\n",
      "laser\n",
      "headlight\n",
      "assemblies\n",
      "testing\n",
      "image\n",
      "mind\n",
      "phrase\n",
      "laser\n",
      "headlights\n",
      "laser\n",
      "beams\n",
      "front\n",
      "automobile\n",
      "beams\n",
      "light\n",
      "illumination\n",
      "spot\n",
      "distance\n",
      "eyes\n",
      "laser\n",
      "headlights\n",
      "way\n",
      "laser\n",
      "headlights\n",
      "state\n",
      "laser\n",
      "diodes\n",
      "headlight\n",
      "lasers\n",
      "phosphor\n",
      "LEDs\n",
      "light\n",
      "reflectors\n",
      "headlights\n",
      "road\n",
      "headlights\n",
      "way\n",
      "benefits\n",
      "energy\n",
      "LEDs\n",
      "amount\n",
      "light\n",
      "space\n",
      "i8\n",
      "vehicles\n",
      "laser\n",
      "headlight\n",
      "technology\n",
      "headlights\n",
      "nascent\n",
      "technology\n",
      "vehicles\n",
      "technology\n",
      "partnership\n",
      "lighting\n",
      "experts\n",
      "practice\n",
      "beam\n",
      "lamp\n",
      "laser\n",
      "spot\n",
      "beams\n",
      "illumination\n",
      "meters\n",
      "vehicle\n",
      "beams\n",
      "lights\n",
      "indium\n",
      "nitride\n",
      "diode\n",
      "lasers\n",
      "projectors\n",
      "power\n",
      "levels\n",
      "watt\n",
      "challenges\n",
      "technology\n",
      "environment\n",
      "need\n",
      "temperature\n",
      "extremes\n",
      "research\n",
      "lasers\n",
      "laser\n",
      "pointers\n",
      "room\n",
      "temperatures\n",
      "headlights\n",
      "degrees\n",
      "degrees\n",
      "laser\n",
      "efficiency\n",
      "heat\n",
      "output\n",
      "things\n",
      "engineering\n",
      "challenges\n",
      "optics\n",
      "package\n",
      "tumble\n",
      "vibration\n",
      "environment\n",
      "application\n",
      "device\n",
      "end\n",
      "user\n",
      "laser\n",
      "radiation\n",
      "event\n",
      "accident\n",
      "malfunction\n",
      "marketing\n",
      "image\n",
      "construction\n",
      "aftermarket\n",
      "LED\n",
      "laser\n",
      "headlight\n",
      "laser\n",
      "power\n",
      "grain\n",
      "salt\n",
      "W\n",
      "laser\n",
      "LEDs\n",
      "hole\n",
      "board\n",
      "order\n",
      "aftermarket\n",
      "designs\n",
      "laser\n",
      "LED\n",
      "headlights\n",
      "drop\n",
      "replacement\n",
      "projector\n",
      "lamps\n",
      "vehicles\n",
      "beam\n",
      "LED\n",
      "laser\n",
      "beam\n",
      "laser\n",
      "diode\n",
      "shoots\n",
      "phosphor\n",
      "units\n",
      "fan\n",
      "laser\n",
      "LEDs\n",
      "temperature\n",
      "developments\n",
      "performance\n",
      "aftermarket\n",
      "headlights\n",
      "aftermarket\n",
      "headlight\n",
      "upgrades\n",
      "muster\n",
      "world\n",
      "performance\n",
      "reason\n",
      "LED\n",
      "laser\n",
      "designs\n",
      "’d\n",
      "selection\n",
      "parts\n",
      "test\n",
      "protocol\n",
      "scope\n",
      "budget\n",
      "article\n",
      "mikeselectricstuff\n",
      "hands\n",
      "aftermarket\n",
      "parts\n",
      "workshop\n",
      "differences\n",
      "bare\n",
      "bench\n",
      "part\n",
      "headlight\n",
      "laser\n",
      "beam\n",
      "circuit\n",
      "time\n",
      "parts\n",
      "road\n",
      "users\n",
      "shutter\n",
      "place\n",
      "light\n",
      "way\n",
      "solenoid\n",
      "driver\n",
      "beam\n",
      "switch\n",
      "aftermarket\n",
      "part\n",
      "field\n",
      "design\n",
      "thing\n",
      "edge\n",
      "headlights\n",
      "connectors\n",
      "conductors\n",
      "driver\n",
      "electronics\n",
      "controller\n",
      "LEDs\n",
      "stepper\n",
      "motors\n",
      "headlights\n",
      "laser\n",
      "assembly\n",
      "complexities\n",
      "Twin\n",
      "sensors\n",
      "laser\n",
      "beam\n",
      "metal\n",
      "blocking\n",
      "arm\n",
      "front\n",
      "diode\n",
      "laser\n",
      "light\n",
      "headlight\n",
      "event\n",
      "phosphor\n",
      "coating\n",
      "look\n",
      "luxury\n",
      "car\n",
      "headlight\n",
      "days\n",
      "beams\n",
      "Performance\n",
      "efficiency\n",
      "gains\n",
      "technology\n",
      "laser\n",
      "diodes\n",
      "technology\n",
      "end\n",
      "models\n",
      "economies\n",
      "scale\n",
      "change\n",
      "authorities\n",
      "performance\n",
      "headlights\n",
      "standard\n",
      "laser\n",
      "headlights\n",
      "norm\n",
      "luxury\n",
      "technology\n",
      "home\n",
      "lighting\n",
      "gains\n",
      "LED\n",
      "lighting\n",
      "norm\n",
      "time\n",
      "output\n",
      "laser\n",
      "headlights\n",
      "package\n",
      "engineers\n",
      "freedom\n",
      "end\n",
      "car\n",
      "appeal\n",
      "technology\n",
      "packaging\n",
      "benefits\n",
      "designers\n",
      "freedom\n",
      "area\n",
      "concerns\n",
      "factor\n",
      "fittings\n",
      "home\n",
      "office\n",
      "end\n",
      "automobiles\n",
      "application\n",
      "lasers\n",
      "future\n",
      "car\n",
      "hacks\n",
      "laser\n",
      "laser\n",
      "laser\n",
      "headlights\n"
     ]
    }
   ],
   "source": [
    "for token in doc:\n",
    "    if token.pos_ == \"NOUN\":\n",
    "        print(token)"
   ]
  }
 ],
 "metadata": {
  "kernelspec": {
   "display_name": "Python 3 (ipykernel)",
   "language": "python",
   "name": "python3"
  },
  "language_info": {
   "codemirror_mode": {
    "name": "ipython",
    "version": 3
   },
   "file_extension": ".py",
   "mimetype": "text/x-python",
   "name": "python",
   "nbconvert_exporter": "python",
   "pygments_lexer": "ipython3",
   "version": "3.10.6"
  }
 },
 "nbformat": 4,
 "nbformat_minor": 4
}
